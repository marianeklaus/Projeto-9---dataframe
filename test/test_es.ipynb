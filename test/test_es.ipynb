{
 "cells": [
  {
   "cell_type": "markdown",
   "id": "678e1a1b-ab9f-450f-9be3-3fc6eb1cdd54",
   "metadata": {},
   "source": [
    "# Módulo de entrada e saída de dados\n",
    "\n",
    "O módulo proverá uma função para leitura da API do Bacen e para produção de gráficos."
   ]
  },
  {
   "cell_type": "code",
   "execution_count": null,
   "id": "1b28bc27-3123-4809-b61a-51140cecdc95",
   "metadata": {},
   "outputs": [],
   "source": [
    "# Função para consumo da API do Bacen\n",
    "\n",
    "import numpy as np\n",
    "import pandas as pd\n",
    "\n",
    "def leitor_dados(arquivo: object) -> pd.DataFrame:\n",
    "    pass\n"
   ]
  }
 ],
 "metadata": {
  "kernelspec": {
   "display_name": "Python 3 (ipykernel)",
   "language": "python",
   "name": "python3"
  },
  "language_info": {
   "codemirror_mode": {
    "name": "ipython",
    "version": 3
   },
   "file_extension": ".py",
   "mimetype": "text/x-python",
   "name": "python",
   "nbconvert_exporter": "python",
   "pygments_lexer": "ipython3",
   "version": "3.10.9"
  }
 },
 "nbformat": 4,
 "nbformat_minor": 5
}
